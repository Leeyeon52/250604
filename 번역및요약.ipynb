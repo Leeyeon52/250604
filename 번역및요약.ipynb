{
  "cells": [
    {
      "cell_type": "markdown",
      "id": "e2f327e7",
      "metadata": {
        "id": "e2f327e7"
      },
      "source": [
        "# OpenAPI를 이용한 논문, 기사, 글 요약 및 번역\n",
        "\n",
        "https://jehyunlee.github.io/2022/07/02/Python-DS-106-aaicon/\n",
        "\n",
        "### Reference\n",
        "\n",
        "```\n",
        "이제현, 유시현, 김창기, 김현구, \"Open API를 활용한 고속 논문 분석\",\n",
        "실용인공지능학회지 vol.1 p.9, 2022\n",
        "```"
      ]
    },
    {
      "cell_type": "markdown",
      "id": "df051431",
      "metadata": {
        "id": "df051431"
      },
      "source": [
        "## API 키 발급\n",
        "\n",
        "- RapidAPI : https://rapidapi.com/developer/new\n",
        "- 네이버 : https://developers.naver.com/apps/#/register?api=ppg_n2mt"
      ]
    },
    {
      "cell_type": "code",
      "execution_count": 11,
      "id": "b204963a",
      "metadata": {
        "id": "b204963a"
      },
      "outputs": [],
      "source": [
        "rapidapi_key = '8f241c94b7mshe9ac1e638cbcbc7p1ad446jsncadc97c4f17d'\n",
        "#naver_client_id = 'YOUR_API_KEY_HERE'\n",
        "#naver_client_secret = 'YOUR_API_KEY_HERE'"
      ]
    },
    {
      "cell_type": "markdown",
      "id": "f74b1efd",
      "metadata": {
        "id": "f74b1efd"
      },
      "source": [
        "# TLDRThis\n",
        "\n",
        "- https://rapidapi.com/tldrthishq-tldrthishq-default/api/tldrthis/\n",
        "\n",
        "---\n",
        "\n",
        "## 요약의 종류\n",
        "\n",
        "1. Abstractive(Human-like) summarization\n",
        "\n",
        "> Abstractive summarization(생성 요약)은 기존 Input text를 그대로 인용하지 않고, 기존의 내용을 새롭게 re-phrasing 하여 Summary를 생성하는 요약 모델입니다.\n",
        "\n",
        "2. Extractive summarization\n",
        "\n",
        "> 반면에 Extractive summarization(추출 요약)은 기존 Input text에 존재하는 중요한 단어를 그대로 사용하여 Summary를 생성하는 요약 모델입니다.\n",
        "\n",
        "출처 : https://supkoon.tistory.com/40"
      ]
    },
    {
      "cell_type": "code",
      "execution_count": 12,
      "id": "69898271",
      "metadata": {
        "id": "69898271"
      },
      "outputs": [],
      "source": [
        "import requests\n",
        "from pprint import pprint"
      ]
    },
    {
      "cell_type": "markdown",
      "id": "61573ca4",
      "metadata": {
        "id": "61573ca4"
      },
      "source": [
        "### 예시 논문\n",
        "\n",
        "Attention Is All You Need\n",
        "- 페이지 : https://arxiv.org/abs/1706.03762\n",
        "- 본문(pdf) : https://arxiv.org/pdf/1706.03762.pdf"
      ]
    },
    {
      "cell_type": "markdown",
      "id": "f600ad29",
      "metadata": {
        "id": "f600ad29"
      },
      "source": [
        "## 요약"
      ]
    },
    {
      "cell_type": "code",
      "execution_count": null,
      "id": "WcKTwNmbH7bf",
      "metadata": {
        "colab": {
          "base_uri": "https://localhost:8080/"
        },
        "id": "WcKTwNmbH7bf",
        "outputId": "14f74ad8-3c82-4a3b-901d-b42d9ffd10da"
      },
      "outputs": [
        {
          "name": "stdout",
          "output_type": "stream",
          "text": [
            "{'article_abstract': None,\n",
            " 'article_authors': ['Chen J Lu C Huang H Zhu D Yang Q Liu J Huang Y Deng A '\n",
            "                     'Han X',\n",
            "                     'Agarwal S',\n",
            "                     'Glenton C',\n",
            "                     'Tamrat T',\n",
            "                     'Henschke N',\n",
            "                     'Maayan N',\n",
            "                     'Fønhus Ms',\n",
            "                     'Mehl Gl',\n",
            "                     'Lewin S.',\n",
            "                     'Et Al.'],\n",
            " 'article_html': '<div><p>\\n'\n",
            "                 '      \\n'\n",
            "                 '      <i>Importance</i>. The last decade has witnessed the '\n",
            "                 'advances of cognitive computing technologies that learn at '\n",
            "                 'scale and reason with purpose in medicine studies. From the '\n",
            "                 'diagnosis of diseases till the generation of treatment '\n",
            "                 'plans, cognitive computing encompasses both data-driven and '\n",
            "                 'knowledge-driven machine intelligence to assist health care '\n",
            "                 'roles in clinical decision-making. This review provides a '\n",
            "                 'comprehensive perspective from both research and industrial '\n",
            "                 'efforts on cognitive computing-based CDSS over the last '\n",
            "                 'decade.<i>Highlights</i>. (1) A holistic review of both '\n",
            "                 'research papers and industrial practice about cognitive '\n",
            "                 'computing-based CDSS is conducted to identify the necessity '\n",
            "                 'and the characteristics as well as the general framework of '\n",
            "                 'constructing the system. (2) Several of the typical '\n",
            "                 'applications of cognitive computing-based CDSS as well as '\n",
            "                 'the existing systems in real medical practice are introduced '\n",
            "                 'in detail under the general framework. (3) The limitations '\n",
            "                 'of the current cognitive computing-based CDSS is discussed '\n",
            "                 'that sheds light on the future work in this '\n",
            "                 'direction.<i>Conclusion</i>. Different from medical content '\n",
            "                 'providers, cognitive computing-based CDSS provides '\n",
            "                 'probabilistic clinical decision support by automatically '\n",
            "                 'learning and inferencing from medical big data. The '\n",
            "                 'characteristics of managing multimodal data and '\n",
            "                 'computerizing medical knowledge distinguish cognitive '\n",
            "                 'computing-based CDSS from other categories. Given the '\n",
            "                 'current status of primary health care like high diagnostic '\n",
            "                 'error rate and shortage of medical resources, it is time to '\n",
            "                 'introduce cognitive computing-based CDSS to the medical '\n",
            "                 'community which is supposed to be more open-minded and '\n",
            "                 'embrace the convenience and low cost but high efficiency '\n",
            "                 'brought by cognitive computing-based CDSS.\\n'\n",
            "                 '    </p>\\n'\n",
            "                 '  \\n'\n",
            "                 '\\n'\n",
            "                 '  \\n'\n",
            "                 '\\n'\n",
            "                 '\\n'\n",
            "                 '              \\n'\n",
            "                 '            </div>',\n",
            " 'article_image': 'https://cdn.ncbi.nlm.nih.gov/pubmed/persistent/pubmed-meta-image-v2.jpg',\n",
            " 'article_pub_date': None,\n",
            " 'article_text': 'Importance. The last decade has witnessed the advances of '\n",
            "                 'cognitive computing technologies that learn at scale and '\n",
            "                 'reason with purpose in medicine studies. From the diagnosis '\n",
            "                 'of diseases till the generation of treatment plans, '\n",
            "                 'cognitive computing encompasses both data-driven and '\n",
            "                 'knowledge-driven machine intelligence to assist health care '\n",
            "                 'roles in clinical decision-making. This review provides a '\n",
            "                 'comprehensive perspective from both research and industrial '\n",
            "                 'efforts on cognitive computing-based CDSS over the last '\n",
            "                 'decade.Highlights. (1) A holistic review of both research '\n",
            "                 'papers and industrial practice about cognitive '\n",
            "                 'computing-based CDSS is conducted to identify the necessity '\n",
            "                 'and the characteristics as well as the general framework of '\n",
            "                 'constructing the system. (2) Several of the typical '\n",
            "                 'applications of cognitive computing-based CDSS as well as '\n",
            "                 'the existing systems in real medical practice are introduced '\n",
            "                 'in detail under the general framework. (3) The limitations '\n",
            "                 'of the current cognitive computing-based CDSS is discussed '\n",
            "                 'that sheds light on the future work in this '\n",
            "                 'direction.Conclusion. Different from medical content '\n",
            "                 'providers, cognitive computing-based CDSS provides '\n",
            "                 'probabilistic clinical decision support by automatically '\n",
            "                 'learning and inferencing from medical big data. The '\n",
            "                 'characteristics of managing multimodal data and '\n",
            "                 'computerizing medical knowledge distinguish cognitive '\n",
            "                 'computing-based CDSS from other categories. Given the '\n",
            "                 'current status of primary health care like high diagnostic '\n",
            "                 'error rate and shortage of medical resources, it is time to '\n",
            "                 'introduce cognitive computing-based CDSS to the medical '\n",
            "                 'community which is supposed to be more open-minded and '\n",
            "                 'embrace the convenience and low cost but high efficiency '\n",
            "                 'brought by cognitive computing-based CDSS.',\n",
            " 'article_title': 'Cognitive Computing-Based CDSS in Medical Practice',\n",
            " 'article_url': 'https://pubmed.ncbi.nlm.nih.gov/38487503/',\n",
            " 'summary': ['The last decade has witnessed the advances of cognitive '\n",
            "             'computing technologies that learn at scale and reason with '\n",
            "             'purpose in medicine studies.',\n",
            "             'From the diagnosis of diseases till the generation of treatment '\n",
            "             'plans, cognitive computing encompasses both data-driven and '\n",
            "             'knowledge-driven machine intelligence to assist health care '\n",
            "             'roles in clinical decision-making.',\n",
            "             'This review provides a comprehensive perspective from both '\n",
            "             'research and industrial efforts on cognitive computing-based '\n",
            "             'CDSS over the last decade.',\n",
            "             '2) Several of the typical applications of cognitive '\n",
            "             'computing-based CDSS as well as the existing systems in real '\n",
            "             'medical practice are introduced in detail under the general '\n",
            "             'framework. (',\n",
            "             'The characteristics of managing multimodal data and '\n",
            "             'computerizing medical knowledge distinguish cognitive '\n",
            "             'computing-based CDSS from other categories.',\n",
            "             'Given the current status of primary health care like high '\n",
            "             'diagnostic error rate and shortage of medical resources, it is '\n",
            "             'time to introduce cognitive computing-based CDSS to the medical '\n",
            "             'community which is supposed to be more open-minded and embrace '\n",
            "             'the convenience and low cost but high efficiency brought by '\n",
            "             'cognitive computing-based CDSS.']}\n"
          ]
        }
      ],
      "source": [
        "url = \"https://tldrthis.p.rapidapi.com/v1/model/extractive/summarize-url/\"\n",
        "\n",
        "payload = {\n",
        "    \"url\": \"https://pubmed.ncbi.nlm.nih.gov/38487503/\", # 주소   https://arxiv.org/abs/1706.03762   https://arxiv.org/pdf/1706.03762.pdf\n",
        "    \"min_length\": 100, # 최소 길이\n",
        "    \"max_length\": 300, # 최대 길이\n",
        "    \"is_detailed\": False # 한 문장으로 반환할 것인지 여부\n",
        "}\n",
        "\n",
        "headers = {\n",
        "    \"content-type\": \"application/json\",\n",
        "    \"X-RapidAPI-Key\": rapidapi_key,\n",
        "    \"X-RapidAPI-Host\": \"tldrthis.p.rapidapi.com\"\n",
        "}\n",
        "\n",
        "response = requests.request(\"POST\", url, json=payload, headers=headers)\n",
        "\n",
        "pprint(response.json())"
      ]
    },
    {
      "cell_type": "code",
      "execution_count": 38,
      "id": "a9911dfa",
      "metadata": {
        "colab": {
          "base_uri": "https://localhost:8080/"
        },
        "id": "a9911dfa",
        "outputId": "55a91402-b065-4b15-a47b-0b98ca69fb9f"
      },
      "outputs": [
        {
          "name": "stdout",
          "output_type": "stream",
          "text": [
            "['The last decade has witnessed the advances of cognitive computing technologies that learn at scale and reason with purpose in medicine studies.', 'From the diagnosis of diseases till the generation of treatment plans, cognitive computing encompasses both data-driven and knowledge-driven machine intelligence to assist health care roles in clinical decision-making.', 'This review provides a comprehensive perspective from both research and industrial efforts on cognitive computing-based CDSS over the last decade.', '2) Several of the typical applications of cognitive computing-based CDSS as well as the existing systems in real medical practice are introduced in detail under the general framework. (', 'The characteristics of managing multimodal data and computerizing medical knowledge distinguish cognitive computing-based CDSS from other categories.', 'Given the current status of primary health care like high diagnostic error rate and shortage of medical resources, it is time to introduce cognitive computing-based CDSS to the medical community which is supposed to be more open-minded and embrace the convenience and low cost but high efficiency brought by cognitive computing-based CDSS.']\n"
          ]
        }
      ],
      "source": [
        "summary = response.json()['summary']\n",
        "\n",
        "print(summary)"
      ]
    },
    {
      "cell_type": "markdown",
      "id": "CK5FMBo8q1-t",
      "metadata": {
        "id": "CK5FMBo8q1-t"
      },
      "source": [
        "구글 번역 API\n",
        "1. googletrans\n",
        "2. google cloud translation : api키도, 유료의 영역도 있음"
      ]
    },
    {
      "cell_type": "markdown",
      "id": "1SCm3t-v2mQR",
      "metadata": {
        "id": "1SCm3t-v2mQR"
      },
      "source": [
        "구글 번역 api 레퍼런스 : https://www.dinolabs.ai/386"
      ]
    },
    {
      "cell_type": "code",
      "execution_count": 18,
      "id": "Dzwr1xBDkuG3",
      "metadata": {
        "colab": {
          "base_uri": "https://localhost:8080/"
        },
        "id": "Dzwr1xBDkuG3",
        "outputId": "af8d8b14-d9e1-4336-d392-40edb2ce1c3f"
      },
      "outputs": [
        {
          "name": "stdout",
          "output_type": "stream",
          "text": [
            "Collecting googletrans==3.1.0a0\n",
            "  Downloading googletrans-3.1.0a0.tar.gz (19 kB)\n",
            "  Preparing metadata (setup.py): started\n",
            "  Preparing metadata (setup.py): finished with status 'done'\n",
            "Collecting httpx==0.13.3 (from googletrans==3.1.0a0)\n",
            "  Downloading httpx-0.13.3-py3-none-any.whl.metadata (25 kB)\n",
            "Requirement already satisfied: certifi in c:\\users\\user\\anaconda3\\envs\\tf\\lib\\site-packages (from httpx==0.13.3->googletrans==3.1.0a0) (2025.4.26)\n",
            "Collecting hstspreload (from httpx==0.13.3->googletrans==3.1.0a0)\n",
            "  Downloading hstspreload-2025.1.1-py3-none-any.whl.metadata (2.1 kB)\n",
            "Collecting sniffio (from httpx==0.13.3->googletrans==3.1.0a0)\n",
            "  Downloading sniffio-1.3.1-py3-none-any.whl.metadata (3.9 kB)\n",
            "Collecting chardet==3.* (from httpx==0.13.3->googletrans==3.1.0a0)\n",
            "  Downloading chardet-3.0.4-py2.py3-none-any.whl.metadata (3.2 kB)\n",
            "Collecting idna==2.* (from httpx==0.13.3->googletrans==3.1.0a0)\n",
            "  Downloading idna-2.10-py2.py3-none-any.whl.metadata (9.1 kB)\n",
            "Collecting rfc3986<2,>=1.3 (from httpx==0.13.3->googletrans==3.1.0a0)\n",
            "  Downloading rfc3986-1.5.0-py2.py3-none-any.whl.metadata (6.5 kB)\n",
            "Collecting httpcore==0.9.* (from httpx==0.13.3->googletrans==3.1.0a0)\n",
            "  Downloading httpcore-0.9.1-py3-none-any.whl.metadata (4.6 kB)\n",
            "Collecting h11<0.10,>=0.8 (from httpcore==0.9.*->httpx==0.13.3->googletrans==3.1.0a0)\n",
            "  Downloading h11-0.9.0-py2.py3-none-any.whl.metadata (8.1 kB)\n",
            "Collecting h2==3.* (from httpcore==0.9.*->httpx==0.13.3->googletrans==3.1.0a0)\n",
            "  Downloading h2-3.2.0-py2.py3-none-any.whl.metadata (32 kB)\n",
            "Collecting hyperframe<6,>=5.2.0 (from h2==3.*->httpcore==0.9.*->httpx==0.13.3->googletrans==3.1.0a0)\n",
            "  Downloading hyperframe-5.2.0-py2.py3-none-any.whl.metadata (7.2 kB)\n",
            "Collecting hpack<4,>=3.0 (from h2==3.*->httpcore==0.9.*->httpx==0.13.3->googletrans==3.1.0a0)\n",
            "  Downloading hpack-3.0.0-py2.py3-none-any.whl.metadata (7.0 kB)\n",
            "Downloading httpx-0.13.3-py3-none-any.whl (55 kB)\n",
            "Downloading chardet-3.0.4-py2.py3-none-any.whl (133 kB)\n",
            "Downloading httpcore-0.9.1-py3-none-any.whl (42 kB)\n",
            "Downloading h11-0.9.0-py2.py3-none-any.whl (53 kB)\n",
            "Downloading h2-3.2.0-py2.py3-none-any.whl (65 kB)\n",
            "Downloading hpack-3.0.0-py2.py3-none-any.whl (38 kB)\n",
            "Downloading hyperframe-5.2.0-py2.py3-none-any.whl (12 kB)\n",
            "Downloading idna-2.10-py2.py3-none-any.whl (58 kB)\n",
            "Downloading rfc3986-1.5.0-py2.py3-none-any.whl (31 kB)\n",
            "Downloading sniffio-1.3.1-py3-none-any.whl (10 kB)\n",
            "Downloading hstspreload-2025.1.1-py3-none-any.whl (1.3 MB)\n",
            "   ---------------------------------------- 0.0/1.3 MB ? eta -:--:--\n",
            "   ---------------------------------------- 1.3/1.3 MB 11.1 MB/s eta 0:00:00\n",
            "Building wheels for collected packages: googletrans\n",
            "  Building wheel for googletrans (setup.py): started\n",
            "  Building wheel for googletrans (setup.py): finished with status 'done'\n",
            "  Created wheel for googletrans: filename=googletrans-3.1.0a0-py3-none-any.whl size=16475 sha256=fb5487a18713e5b0fbc1685199089daafaa6587b96e740eeee917e3c229ed67e\n",
            "  Stored in directory: c:\\users\\user\\appdata\\local\\pip\\cache\\wheels\\ae\\e1\\6c\\5137bc3f35aa130deea71575e165cc4f4f0680a88f3d90a636\n",
            "Successfully built googletrans\n",
            "Installing collected packages: rfc3986, hyperframe, hpack, h11, chardet, sniffio, idna, hstspreload, h2, httpcore, httpx, googletrans\n",
            "\n",
            "   ------------- --------------------------  4/12 [chardet]\n",
            "  Attempting uninstall: idna\n",
            "   ------------- --------------------------  4/12 [chardet]\n",
            "    Found existing installation: idna 3.10\n",
            "   ------------- --------------------------  4/12 [chardet]\n",
            "    Uninstalling idna-3.10:\n",
            "   ------------- --------------------------  4/12 [chardet]\n",
            "      Successfully uninstalled idna-3.10\n",
            "   ------------- --------------------------  4/12 [chardet]\n",
            "   -------------------- -------------------  6/12 [idna]\n",
            "   --------------------------------- ------ 10/12 [httpx]\n",
            "   ---------------------------------------- 12/12 [googletrans]\n",
            "\n",
            "Successfully installed chardet-3.0.4 googletrans-3.1.0a0 h11-0.9.0 h2-3.2.0 hpack-3.0.0 hstspreload-2025.1.1 httpcore-0.9.1 httpx-0.13.3 hyperframe-5.2.0 idna-2.10 rfc3986-1.5.0 sniffio-1.3.1\n"
          ]
        },
        {
          "name": "stderr",
          "output_type": "stream",
          "text": [
            "  DEPRECATION: Building 'googletrans' using the legacy setup.py bdist_wheel mechanism, which will be removed in a future version. pip 25.3 will enforce this behaviour change. A possible replacement is to use the standardized build interface by setting the `--use-pep517` option, (possibly combined with `--no-build-isolation`), or adding a `pyproject.toml` file to the source tree of 'googletrans'. Discussion can be found at https://github.com/pypa/pip/issues/6334\n"
          ]
        }
      ],
      "source": [
        "!pip install googletrans==3.1.0a0 "
      ]
    },
    {
      "cell_type": "code",
      "execution_count": 43,
      "id": "O73SLFEXkrmi",
      "metadata": {
        "colab": {
          "base_uri": "https://localhost:8080/"
        },
        "id": "O73SLFEXkrmi",
        "outputId": "eeaf9e5f-7ad9-45c1-8e75-4c81077ac625"
      },
      "outputs": [
        {
          "name": "stdout",
          "output_type": "stream",
          "text": [
            "번역된 텍스트: ['지난 10 년 동안 의학 연구에서 목적으로 규모와 이유를 배우는인지 컴퓨팅 기술의 발전이 목격되었습니다.', '질병 진단에서 치료 계획의 생성까지인지 컴퓨팅은 임상 의사 결정에서 건강 관리 역할을 돕기 위해 데이터 중심 및 지식 중심의 기계 지능을 모두 포함합니다.', '이 검토는 지난 10 년 동안인지 컴퓨팅 기반 CDS에 대한 연구 및 산업 노력의 포괄적 인 관점을 제공합니다.', '2)인지 컴퓨팅 기반 CDS와 실제 의료 실무의 기존 시스템의 전형적인 응용 중 일부는 일반 프레임 워크 아래에 자세히 도입됩니다. (', '멀티 모달 데이터를 관리하고 의료 지식을 전산화하는 특성은인지 컴퓨팅 기반 CDS를 다른 범주와 구별합니다.', '높은 진단 오류율과 의료 자원의 부족과 같은 1 차 의료 서비스의 현재 상태를 고려할 때,인지 컴퓨팅 기반 CDS를 의료계에 더 개방적으로 생각하고인지 컴퓨팅 기반 CDS에 의해 가져온 편의성과 저렴한 비용을 수용 해야하는 의료 공동체에 도입해야 할 때입니다.']\n"
          ]
        }
      ],
      "source": [
        "from googletrans import Translator\n",
        "import json\n",
        "\n",
        "def translate_text(text, target_language='ko'):\n",
        "    translator = Translator()\n",
        "    translated_sentences = []\n",
        "    for sentence in text:\n",
        "        translated_sentence = translator.translate(sentence, dest=target_language)\n",
        "        translated_sentences.append(translated_sentence.text)\n",
        "    return translated_sentences\n",
        "\n",
        "# 응답받은 텍스트 디코딩\n",
        "response_text = response.text # response.content / response.text\n",
        "response_json = json.loads(response_text)\n",
        "\n",
        "# 번역할 텍스트 추출\n",
        "text_to_translate = response_json.get('summary', '')\n",
        "\n",
        "# 번역된 텍스트\n",
        "translated_text = translate_text(text_to_translate)\n",
        "\n",
        "print(\"번역된 텍스트:\", translated_text)\n"
      ]
    },
    {
      "cell_type": "markdown",
      "id": "142c4aa4",
      "metadata": {
        "id": "142c4aa4"
      },
      "source": [
        "## 번역\n",
        "\n",
        "네이버 파파고 API"
      ]
    },
    {
      "cell_type": "code",
      "execution_count": 20,
      "id": "8bc6a8ee",
      "metadata": {
        "id": "8bc6a8ee",
        "outputId": "d1aa4fc0-c003-4288-d7a9-8c744391b84d"
      },
      "outputs": [
        {
          "ename": "NameError",
          "evalue": "name 'naver_client_id' is not defined",
          "output_type": "error",
          "traceback": [
            "\u001b[1;31m---------------------------------------------------------------------------\u001b[0m",
            "\u001b[1;31mNameError\u001b[0m                                 Traceback (most recent call last)",
            "Cell \u001b[1;32mIn[20], line 11\u001b[0m\n\u001b[0;32m      1\u001b[0m url \u001b[38;5;241m=\u001b[39m \u001b[38;5;124m\"\u001b[39m\u001b[38;5;124mhttps://openapi.naver.com/v1/papago/n2mt\u001b[39m\u001b[38;5;124m\"\u001b[39m\n\u001b[0;32m      3\u001b[0m payload \u001b[38;5;241m=\u001b[39m {\n\u001b[0;32m      4\u001b[0m     \u001b[38;5;124m\"\u001b[39m\u001b[38;5;124msource\u001b[39m\u001b[38;5;124m\"\u001b[39m: \u001b[38;5;124m\"\u001b[39m\u001b[38;5;124men\u001b[39m\u001b[38;5;124m\"\u001b[39m,\n\u001b[0;32m      5\u001b[0m     \u001b[38;5;124m\"\u001b[39m\u001b[38;5;124mtarget\u001b[39m\u001b[38;5;124m\"\u001b[39m: \u001b[38;5;124m\"\u001b[39m\u001b[38;5;124mko\u001b[39m\u001b[38;5;124m\"\u001b[39m,\n\u001b[0;32m      6\u001b[0m     \u001b[38;5;124m\"\u001b[39m\u001b[38;5;124mtext\u001b[39m\u001b[38;5;124m\"\u001b[39m: summary,\n\u001b[0;32m      7\u001b[0m }\n\u001b[0;32m      9\u001b[0m headers \u001b[38;5;241m=\u001b[39m {\n\u001b[0;32m     10\u001b[0m     \u001b[38;5;124m\"\u001b[39m\u001b[38;5;124mcontent-type\u001b[39m\u001b[38;5;124m\"\u001b[39m: \u001b[38;5;124m\"\u001b[39m\u001b[38;5;124mapplication/json\u001b[39m\u001b[38;5;124m\"\u001b[39m,\n\u001b[1;32m---> 11\u001b[0m     \u001b[38;5;124m\"\u001b[39m\u001b[38;5;124mX-Naver-Client-Id\u001b[39m\u001b[38;5;124m\"\u001b[39m: \u001b[43mnaver_client_id\u001b[49m,\n\u001b[0;32m     12\u001b[0m     \u001b[38;5;124m\"\u001b[39m\u001b[38;5;124mX-Naver-Client-Secret\u001b[39m\u001b[38;5;124m\"\u001b[39m: naver_client_secret,\n\u001b[0;32m     13\u001b[0m }\n\u001b[0;32m     15\u001b[0m response \u001b[38;5;241m=\u001b[39m requests\u001b[38;5;241m.\u001b[39mrequest(\u001b[38;5;124m\"\u001b[39m\u001b[38;5;124mPOST\u001b[39m\u001b[38;5;124m\"\u001b[39m, url, json\u001b[38;5;241m=\u001b[39mpayload, headers\u001b[38;5;241m=\u001b[39mheaders)\n\u001b[0;32m     17\u001b[0m pprint(response\u001b[38;5;241m.\u001b[39mjson())\n",
            "\u001b[1;31mNameError\u001b[0m: name 'naver_client_id' is not defined"
          ]
        }
      ],
      "source": [
        "url = \"https://openapi.naver.com/v1/papago/n2mt\"\n",
        "\n",
        "payload = {\n",
        "    \"source\": \"en\",\n",
        "    \"target\": \"ko\",\n",
        "    \"text\": summary,\n",
        "}\n",
        "\n",
        "headers = {\n",
        "    \"content-type\": \"application/json\",\n",
        "    \"X-Naver-Client-Id\": naver_client_id,\n",
        "    \"X-Naver-Client-Secret\": naver_client_secret,\n",
        "}\n",
        "\n",
        "response = requests.request(\"POST\", url, json=payload, headers=headers)\n",
        "\n",
        "pprint(response.json())"
      ]
    },
    {
      "cell_type": "code",
      "execution_count": null,
      "id": "e204b577",
      "metadata": {
        "id": "e204b577",
        "outputId": "4facf50c-ae74-4ab3-c346-7457cb1d5a91"
      },
      "outputs": [
        {
          "name": "stdout",
          "output_type": "stream",
          "text": [
            "우리는 주의 메커니즘만을 기반으로 하는 새로운 간단한 네트워크 아키텍처인 트랜스포머를 제안한다. 두 가지 기계 번역 작업에 대한 실험은 이러한 모델이 품질 면에서 우수하면서도 병렬화가 더 가능하고 교육하는 데 훨씬 적은 시간이 필요하다는 것을 보여준다. Transformer는 훨씬 더 많은 병렬화를 가능하게 하며 8개의 P100 GPU에서 12시간 정도 교육을 받은 후 번역 품질에서 새로운 최첨단 기술에 도달할 수 있습니다. 순차 연산을 줄이는 목표는 확장 신경 GPU[16], ByteNet[18] 및 ConvS2S의 기초를 형성한다.\n"
          ]
        }
      ],
      "source": [
        "print(response.json()['message']['result']['translatedText'])"
      ]
    },
    {
      "cell_type": "markdown",
      "id": "df0b8837",
      "metadata": {
        "id": "df0b8837"
      },
      "source": [
        "## 함수화"
      ]
    },
    {
      "cell_type": "code",
      "execution_count": 42,
      "id": "83364e32",
      "metadata": {},
      "outputs": [
        {
          "ename": "ModuleNotFoundError",
          "evalue": "No module named 'google.cloud'",
          "output_type": "error",
          "traceback": [
            "\u001b[1;31m---------------------------------------------------------------------------\u001b[0m",
            "\u001b[1;31mModuleNotFoundError\u001b[0m                       Traceback (most recent call last)",
            "Cell \u001b[1;32mIn[42], line 2\u001b[0m\n\u001b[0;32m      1\u001b[0m \u001b[38;5;28;01mimport\u001b[39;00m\u001b[38;5;250m \u001b[39m\u001b[38;5;21;01mrequests\u001b[39;00m\n\u001b[1;32m----> 2\u001b[0m \u001b[38;5;28;01mfrom\u001b[39;00m\u001b[38;5;250m \u001b[39m\u001b[38;5;21;01mgoogle\u001b[39;00m\u001b[38;5;21;01m.\u001b[39;00m\u001b[38;5;21;01mcloud\u001b[39;00m\u001b[38;5;250m \u001b[39m\u001b[38;5;28;01mimport\u001b[39;00m translate_v2 \u001b[38;5;28;01mas\u001b[39;00m translate\n\u001b[0;32m      3\u001b[0m \u001b[38;5;28;01mimport\u001b[39;00m\u001b[38;5;250m \u001b[39m\u001b[38;5;21;01mos\u001b[39;00m\n\u001b[0;32m      5\u001b[0m \u001b[38;5;66;03m# Google Cloud 서비스 계정 키 파일 경로 설정 (JSON 파일)\u001b[39;00m\n\u001b[0;32m      6\u001b[0m \u001b[38;5;66;03m# 예: os.environ[\"GOOGLE_APPLICATION_CREDENTIALS\"] = \"/path/to/your/keyfile.json\"\u001b[39;00m\n\u001b[0;32m      7\u001b[0m \u001b[38;5;66;03m# 실제 키 파일 경로로 변경해주세요.\u001b[39;00m\n\u001b[0;32m      8\u001b[0m \u001b[38;5;66;03m# 로컬에서 실행 시 이 환경 변수를 설정해야 합니다.\u001b[39;00m\n\u001b[0;32m      9\u001b[0m \u001b[38;5;66;03m# 배포 환경에서는 다른 방식으로 인증 정보를 설정할 수 있습니다.\u001b[39;00m\n",
            "\u001b[1;31mModuleNotFoundError\u001b[0m: No module named 'google.cloud'"
          ]
        }
      ],
      "source": [
        "import requests\n",
        "from google.cloud import translate_v2 as translate\n",
        "import os\n",
        "\n",
        "# Google Cloud 서비스 계정 키 파일 경로 설정 (JSON 파일)\n",
        "# 예: os.environ[\"GOOGLE_APPLICATION_CREDENTIALS\"] = \"/path/to/your/keyfile.json\"\n",
        "# 실제 키 파일 경로로 변경해주세요.\n",
        "# 로컬에서 실행 시 이 환경 변수를 설정해야 합니다.\n",
        "# 배포 환경에서는 다른 방식으로 인증 정보를 설정할 수 있습니다.\n",
        "\n",
        "def summarize_and_translate(article_url, min_length=100, max_length=300):\n",
        "    # TLDRThis API 설정\n",
        "    tldrthis_url = \"https://tldrthis.p.rapidapi.com/v1/model/abstractive/summarize-url/\"\n",
        "    \n",
        "    # rapidapi_key는 실제 RapidAPI 키로 대체해야 합니다.\n",
        "    rapidapi_key = \"YOUR_RAPIDAPI_KEY_HERE\" # 여기에 실제 RapidAPI 키를 입력하세요.\n",
        "\n",
        "    tldrthis_payload = {\n",
        "        \"url\": article_url,\n",
        "        \"min_length\": min_length,\n",
        "        \"max_length\": max_length,\n",
        "        \"is_detailed\": False\n",
        "    }\n",
        "\n",
        "    tldrthis_headers = {\n",
        "        \"content-type\": \"application/json\",\n",
        "        \"X-RapidAPI-Key\": rapidapi_key,\n",
        "        \"X-RapidAPI-Host\": \"tldrthis.p.rapidapi.com\"\n",
        "    }\n",
        "\n",
        "    # TLDRThis API 호출하여 요약 가져오기\n",
        "    response = requests.request(\"POST\", tldrthis_url, json=tldrthis_payload, headers=tldrthis_headers)\n",
        "    response.raise_for_status() # HTTP 오류가 발생하면 예외를 발생시킵니다.\n",
        "    summary = response.json()['summary'][0].strip()\n",
        "\n",
        "    # Google Cloud Translation API 클라이언트 초기화\n",
        "    translate_client = translate.Client()\n",
        "\n",
        "    # Google Translate API를 사용하여 번역\n",
        "    translation = translate_client.translate(\n",
        "        summary,\n",
        "        source_language='en',\n",
        "        target_language='ko'\n",
        "    )\n",
        "    \n",
        "    return translation['translatedText']\n",
        "\n",
        "# 함수 사용 예시 (실제 URL과 API 키를 넣어 테스트해보세요)\n",
        "# article_url = \"https://example.com/some-article\"\n",
        "# translated_summary = summarize_and_translate(article_url)\n",
        "# print(translated_summary)"
      ]
    },
    {
      "cell_type": "code",
      "execution_count": 39,
      "id": "3ef2e310",
      "metadata": {
        "id": "3ef2e310"
      },
      "outputs": [],
      "source": [
        "def summarize_and_translate(article_url, min_length=100, max_length=300):\n",
        "    url = \"https://tldrthis.p.rapidapi.com/v1/model/abstractive/summarize-url/\"\n",
        "\n",
        "    payload = {\n",
        "        \"url\": article_url, # 주소\n",
        "        \"min_length\": min_length, # 최소 길이\n",
        "        \"max_length\": max_length, # 최대 길이\n",
        "        \"is_detailed\": False # 한 문장으로 반환할 것인지 여부\n",
        "    }\n",
        "\n",
        "    headers = {\n",
        "        \"content-type\": \"application/json\",\n",
        "        \"X-RapidAPI-Key\": rapidapi_key,\n",
        "        \"X-RapidAPI-Host\": \"tldrthis.p.rapidapi.com\"\n",
        "    }\n",
        "\n",
        "    response = requests.request(\"POST\", url, json=payload, headers=headers)\n",
        "\n",
        "    summary = response.json()['summary'][0].strip()\n",
        "\n",
        "    url = \"https://openapi.naver.com/v1/papago/n2mt\"\n",
        "\n",
        "    payload = {\n",
        "        \"source\": \"en\",\n",
        "        \"target\": \"ko\",\n",
        "        \"text\": summary,\n",
        "    }\n",
        "\n",
        "    headers = {\n",
        "        \"content-type\": \"application/json\",\n",
        "        \"X-Naver-Client-Id\": naver_client_id,\n",
        "        \"X-Naver-Client-Secret\": naver_client_secret\n",
        "    }\n",
        "\n",
        "    response = requests.request(\"POST\", url, json=payload, headers=headers)\n",
        "\n",
        "    return response.json()['message']['result']['translatedText']"
      ]
    },
    {
      "cell_type": "code",
      "execution_count": 41,
      "id": "88afea5a",
      "metadata": {
        "id": "88afea5a",
        "outputId": "2d6021f9-ecd2-4324-f58c-604ee6d04206"
      },
      "outputs": [
        {
          "ename": "NameError",
          "evalue": "name 'naver_client_id' is not defined",
          "output_type": "error",
          "traceback": [
            "\u001b[1;31m---------------------------------------------------------------------------\u001b[0m",
            "\u001b[1;31mNameError\u001b[0m                                 Traceback (most recent call last)",
            "Cell \u001b[1;32mIn[41], line 1\u001b[0m\n\u001b[1;32m----> 1\u001b[0m \u001b[43msummarize_and_translate\u001b[49m\u001b[43m(\u001b[49m\u001b[38;5;124;43m\"\u001b[39;49m\u001b[38;5;124;43mhttps://pubmed.ncbi.nlm.nih.gov/38487503/f\u001b[39;49m\u001b[38;5;124;43m\"\u001b[39;49m\u001b[43m,\u001b[49m\u001b[43m \u001b[49m\u001b[38;5;241;43m50\u001b[39;49m\u001b[43m,\u001b[49m\u001b[43m \u001b[49m\u001b[38;5;241;43m100\u001b[39;49m\u001b[43m)\u001b[49m\n",
            "Cell \u001b[1;32mIn[39], line 31\u001b[0m, in \u001b[0;36msummarize_and_translate\u001b[1;34m(article_url, min_length, max_length)\u001b[0m\n\u001b[0;32m     21\u001b[0m url \u001b[38;5;241m=\u001b[39m \u001b[38;5;124m\"\u001b[39m\u001b[38;5;124mhttps://openapi.naver.com/v1/papago/n2mt\u001b[39m\u001b[38;5;124m\"\u001b[39m\n\u001b[0;32m     23\u001b[0m payload \u001b[38;5;241m=\u001b[39m {\n\u001b[0;32m     24\u001b[0m     \u001b[38;5;124m\"\u001b[39m\u001b[38;5;124msource\u001b[39m\u001b[38;5;124m\"\u001b[39m: \u001b[38;5;124m\"\u001b[39m\u001b[38;5;124men\u001b[39m\u001b[38;5;124m\"\u001b[39m,\n\u001b[0;32m     25\u001b[0m     \u001b[38;5;124m\"\u001b[39m\u001b[38;5;124mtarget\u001b[39m\u001b[38;5;124m\"\u001b[39m: \u001b[38;5;124m\"\u001b[39m\u001b[38;5;124mko\u001b[39m\u001b[38;5;124m\"\u001b[39m,\n\u001b[0;32m     26\u001b[0m     \u001b[38;5;124m\"\u001b[39m\u001b[38;5;124mtext\u001b[39m\u001b[38;5;124m\"\u001b[39m: summary,\n\u001b[0;32m     27\u001b[0m }\n\u001b[0;32m     29\u001b[0m headers \u001b[38;5;241m=\u001b[39m {\n\u001b[0;32m     30\u001b[0m     \u001b[38;5;124m\"\u001b[39m\u001b[38;5;124mcontent-type\u001b[39m\u001b[38;5;124m\"\u001b[39m: \u001b[38;5;124m\"\u001b[39m\u001b[38;5;124mapplication/json\u001b[39m\u001b[38;5;124m\"\u001b[39m,\n\u001b[1;32m---> 31\u001b[0m     \u001b[38;5;124m\"\u001b[39m\u001b[38;5;124mX-Naver-Client-Id\u001b[39m\u001b[38;5;124m\"\u001b[39m: \u001b[43mnaver_client_id\u001b[49m,\n\u001b[0;32m     32\u001b[0m     \u001b[38;5;124m\"\u001b[39m\u001b[38;5;124mX-Naver-Client-Secret\u001b[39m\u001b[38;5;124m\"\u001b[39m: naver_client_secret\n\u001b[0;32m     33\u001b[0m }\n\u001b[0;32m     35\u001b[0m response \u001b[38;5;241m=\u001b[39m requests\u001b[38;5;241m.\u001b[39mrequest(\u001b[38;5;124m\"\u001b[39m\u001b[38;5;124mPOST\u001b[39m\u001b[38;5;124m\"\u001b[39m, url, json\u001b[38;5;241m=\u001b[39mpayload, headers\u001b[38;5;241m=\u001b[39mheaders)\n\u001b[0;32m     37\u001b[0m \u001b[38;5;28;01mreturn\u001b[39;00m response\u001b[38;5;241m.\u001b[39mjson()[\u001b[38;5;124m'\u001b[39m\u001b[38;5;124mmessage\u001b[39m\u001b[38;5;124m'\u001b[39m][\u001b[38;5;124m'\u001b[39m\u001b[38;5;124mresult\u001b[39m\u001b[38;5;124m'\u001b[39m][\u001b[38;5;124m'\u001b[39m\u001b[38;5;124mtranslatedText\u001b[39m\u001b[38;5;124m'\u001b[39m]\n",
            "\u001b[1;31mNameError\u001b[0m: name 'naver_client_id' is not defined"
          ]
        }
      ],
      "source": [
        "summarize_and_translate(\"https://pubmed.ncbi.nlm.nih.gov/38487503/f\", 50, 100)"
      ]
    },
    {
      "cell_type": "code",
      "execution_count": null,
      "id": "52a35173",
      "metadata": {
        "id": "52a35173",
        "outputId": "236d79fd-f8ce-45c7-a20e-7ec54389fc1d"
      },
      "outputs": [
        {
          "data": {
            "text/plain": [
              "'EfficientNet-B7은 ImageNet에서 최고 84.3%의 정확도를 달성하는 동시에 기존 최고의 ConvNet보다 8.4배 작고 추론 속도가 6.1배 빠르다. 우리의 EfficientNets는 다른 ConvNets를 크게 능가한다. 이전 작업에서는 깊이, 너비, 이미지 크기 등 세 가지 차원 중 하나만 스케일링하는 것이 일반적이다. 단순하지만 매우 효과적인 복합 계수를 사용하여 깊이/폭/해상도의 모든 차원을 균일하게 확장하는 단순하지만 효과적인 복합 스케일링 방법을 제안한다. 예를 들어, 우리가 2N배 더 많은 계산 자원을 사용하고 싶다면, 우리는 단순히 원래 모델에서 네트워크를 작은 그리드만큼 늘릴 수 있다.'"
            ]
          },
          "execution_count": 51,
          "metadata": {},
          "output_type": "execute_result"
        }
      ],
      "source": [
        "summarize_and_translate(\"https://arxiv.org/pdf/1905.11946.pdf\", 100, 200)"
      ]
    }
  ],
  "metadata": {
    "colab": {
      "provenance": []
    },
    "kernelspec": {
      "display_name": "tf",
      "language": "python",
      "name": "python3"
    },
    "language_info": {
      "codemirror_mode": {
        "name": "ipython",
        "version": 3
      },
      "file_extension": ".py",
      "mimetype": "text/x-python",
      "name": "python",
      "nbconvert_exporter": "python",
      "pygments_lexer": "ipython3",
      "version": "3.9.21"
    }
  },
  "nbformat": 4,
  "nbformat_minor": 5
}
